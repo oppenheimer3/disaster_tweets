{
 "cells": [
  {
   "cell_type": "code",
   "execution_count": 3,
   "id": "d998dcf9",
   "metadata": {},
   "outputs": [],
   "source": [
    "import numpy as np \n",
    "import pandas as pd \n",
    "from sklearn import feature_extraction, linear_model, model_selection, preprocessing\n",
    "\n",
    "df=pd.read_csv('train.csv')\n",
    "dft=pd.read_csv('test.csv')\n",
    "dfs = pd.read_csv('sample_submission.csv')\n",
    "\n",
    "\n",
    "\n",
    "\n",
    "\n",
    "count_vectorizer = feature_extraction.text.CountVectorizer()\n",
    "vector = count_vectorizer.fit_transform(df[\"text\"])\n",
    "\n",
    "\n",
    "tvector=count_vectorizer.transform(dft[\"text\"])\n",
    "clf = linear_model.RidgeClassifier()\n",
    "clf.fit(vector, df[\"target\"])\n",
    "\n",
    "dfs['target']= clf.predict(tvector)\n",
    "dfs.set_index('id', inplace=True)\n",
    "\n",
    "dfs.to_csv('prediction_results.csv')\n",
    "\n",
    "\n",
    "                               \n"
   ]
  }
 ],
 "metadata": {
  "kernelspec": {
   "display_name": "Python 3 (ipykernel)",
   "language": "python",
   "name": "python3"
  },
  "language_info": {
   "codemirror_mode": {
    "name": "ipython",
    "version": 3
   },
   "file_extension": ".py",
   "mimetype": "text/x-python",
   "name": "python",
   "nbconvert_exporter": "python",
   "pygments_lexer": "ipython3",
   "version": "3.9.12"
  }
 },
 "nbformat": 4,
 "nbformat_minor": 5
}
